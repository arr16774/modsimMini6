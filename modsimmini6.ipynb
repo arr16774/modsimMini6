{
 "cells": [
  {
   "cell_type": "code",
   "execution_count": 3,
   "metadata": {},
   "outputs": [],
   "source": [
    "import numpy as np\n",
    "from scipy.optimize import minimize"
   ]
  },
  {
   "cell_type": "code",
   "execution_count": 4,
   "metadata": {},
   "outputs": [],
   "source": [
    "def objective(x):\n",
    "    x1 = x[0]\n",
    "    x2 = x[1]\n",
    "    return -15.0 * x1 - 30.0 * x2 - 4.0 * x1 * x2 + 2.0 * x1 ** 2 + 4.0 * x2 ** 2\n",
    "\n",
    "def constraint1(x):\n",
    "    return 30.0 - x[0] - 2 * x[1]"
   ]
  },
  {
   "cell_type": "code",
   "execution_count": 6,
   "metadata": {},
   "outputs": [],
   "source": [
    "b = (0.0, 100000000000000.0)\n",
    "bnds = (b,b)\n",
    "x0 = [0,0]\n",
    "con1 = {'type': 'ineq', 'fun': constraint1}\n",
    "const = [con1]"
   ]
  },
  {
   "cell_type": "code",
   "execution_count": 7,
   "metadata": {},
   "outputs": [
    {
     "name": "stdout",
     "output_type": "stream",
     "text": [
      "269.9999999999978\n",
      "[12.00000053  8.99999973]\n"
     ]
    }
   ],
   "source": [
    "sol = minimize(objective,x0,method = 'SLSQP',bounds = bnds, constraints = const)\n",
    "print(sol.fun * -1)\n",
    "print(sol.x)"
   ]
  },
  {
   "cell_type": "code",
   "execution_count": 9,
   "metadata": {},
   "outputs": [],
   "source": [
    "##numero 2\n",
    "def objective1(x):\n",
    "    return - 3 * x[0] -5 * x[1]\n",
    "def constraint21(x):\n",
    "    return 4 - x[0]\n",
    "def constraint22(x):\n",
    "    return 12 - 2 * x[1]\n",
    "def constraint23(x):\n",
    "    return 18 - 3 * x[0] -2 * x[1]\n"
   ]
  },
  {
   "cell_type": "code",
   "execution_count": 10,
   "metadata": {},
   "outputs": [],
   "source": [
    "b2 = (0.0, 100000000000000)\n",
    "bnds2 = (b,b)\n",
    "x02 =[0,0]\n",
    "con21 = {'type': 'ineq', 'fun': constraint21}\n",
    "con22 = {'type': 'ineq', 'fun': constraint22}\n",
    "con23 = {'type': 'ineq', 'fun': constraint23}\n",
    "cons = [con21, con22, con23]"
   ]
  },
  {
   "cell_type": "code",
   "execution_count": 12,
   "metadata": {},
   "outputs": [
    {
     "name": "stdout",
     "output_type": "stream",
     "text": [
      "35.99999999999172\n",
      "[2. 6.]\n"
     ]
    }
   ],
   "source": [
    "sol2 = minimize(objective1, x02,method = 'SLSQP', bounds = bnds2, constraints = cons)\n",
    "print(sol2.fun * -1)\n",
    "print(sol2.x)"
   ]
  },
  {
   "cell_type": "code",
   "execution_count": 13,
   "metadata": {},
   "outputs": [],
   "source": [
    "##numero3\n",
    "def objective3(x):\n",
    "    return -5 * x[0] + x[0] ** 2 - 8 * x[1] + 2 * x[1] ** 2\n",
    "def constraint31(x):\n",
    "    return 6 - 3 * x[0] - 2 * x[1]"
   ]
  },
  {
   "cell_type": "code",
   "execution_count": 14,
   "metadata": {},
   "outputs": [],
   "source": [
    "con31 = {'type': 'ineq', 'fun': constraint31}\n",
    "cons1 = [con31]"
   ]
  },
  {
   "cell_type": "code",
   "execution_count": 15,
   "metadata": {},
   "outputs": [
    {
     "name": "stdout",
     "output_type": "stream",
     "text": [
      "11.500000000000002\n",
      "[1.         1.49999999]\n"
     ]
    }
   ],
   "source": [
    "sol3 = minimize(objective3, x02,method = 'SLSQP', bounds = bnds2, constraints = cons1)\n",
    "print(sol3.fun * -1)\n",
    "print(sol3.x)"
   ]
  }
 ],
 "metadata": {
  "kernelspec": {
   "display_name": "Python 3",
   "language": "python",
   "name": "python3"
  },
  "language_info": {
   "codemirror_mode": {
    "name": "ipython",
    "version": 3
   },
   "file_extension": ".py",
   "mimetype": "text/x-python",
   "name": "python",
   "nbconvert_exporter": "python",
   "pygments_lexer": "ipython3",
   "version": "3.6.7"
  }
 },
 "nbformat": 4,
 "nbformat_minor": 2
}
